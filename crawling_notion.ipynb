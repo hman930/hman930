{
  "nbformat": 4,
  "nbformat_minor": 0,
  "metadata": {
    "colab": {
      "provenance": [],
      "authorship_tag": "ABX9TyP7AD0oCzFUZA1/qGWLDGRM",
      "include_colab_link": true
    },
    "kernelspec": {
      "name": "python3",
      "display_name": "Python 3"
    },
    "language_info": {
      "name": "python"
    }
  },
  "cells": [
    {
      "cell_type": "markdown",
      "metadata": {
        "id": "view-in-github",
        "colab_type": "text"
      },
      "source": [
        "<a href=\"https://colab.research.google.com/github/hman930/hman930/blob/main/crawling_notion.ipynb\" target=\"_parent\"><img src=\"https://colab.research.google.com/assets/colab-badge.svg\" alt=\"Open In Colab\"/></a>"
      ]
    },
    {
      "cell_type": "code",
      "execution_count": null,
      "metadata": {
        "colab": {
          "base_uri": "https://localhost:8080/"
        },
        "id": "o6IruGCEd-7M",
        "outputId": "48bf20bc-c55e-4d73-b2bb-fbbadab0237a"
      },
      "outputs": [
        {
          "output_type": "stream",
          "name": "stdout",
          "text": [
            "Requirement already satisfied: beautifulsoup4 in /usr/local/lib/python3.10/dist-packages (4.12.3)\n",
            "Requirement already satisfied: requests in /usr/local/lib/python3.10/dist-packages (2.32.3)\n",
            "Requirement already satisfied: notion-client in /usr/local/lib/python3.10/dist-packages (2.2.1)\n",
            "Requirement already satisfied: soupsieve>1.2 in /usr/local/lib/python3.10/dist-packages (from beautifulsoup4) (2.5)\n",
            "Requirement already satisfied: charset-normalizer<4,>=2 in /usr/local/lib/python3.10/dist-packages (from requests) (3.3.2)\n",
            "Requirement already satisfied: idna<4,>=2.5 in /usr/local/lib/python3.10/dist-packages (from requests) (3.7)\n",
            "Requirement already satisfied: urllib3<3,>=1.21.1 in /usr/local/lib/python3.10/dist-packages (from requests) (2.0.7)\n",
            "Requirement already satisfied: certifi>=2017.4.17 in /usr/local/lib/python3.10/dist-packages (from requests) (2024.7.4)\n",
            "Requirement already satisfied: httpx>=0.15.0 in /usr/local/lib/python3.10/dist-packages (from notion-client) (0.27.0)\n",
            "Requirement already satisfied: anyio in /usr/local/lib/python3.10/dist-packages (from httpx>=0.15.0->notion-client) (3.7.1)\n",
            "Requirement already satisfied: httpcore==1.* in /usr/local/lib/python3.10/dist-packages (from httpx>=0.15.0->notion-client) (1.0.5)\n",
            "Requirement already satisfied: sniffio in /usr/local/lib/python3.10/dist-packages (from httpx>=0.15.0->notion-client) (1.3.1)\n",
            "Requirement already satisfied: h11<0.15,>=0.13 in /usr/local/lib/python3.10/dist-packages (from httpcore==1.*->httpx>=0.15.0->notion-client) (0.14.0)\n",
            "Requirement already satisfied: exceptiongroup in /usr/local/lib/python3.10/dist-packages (from anyio->httpx>=0.15.0->notion-client) (1.2.2)\n"
          ]
        }
      ],
      "source": [
        "!pip install beautifulsoup4 requests notion-client"
      ]
    },
    {
      "cell_type": "code",
      "source": [
        "from bs4 import BeautifulSoup\n",
        "import requests\n",
        "from notion_client import Client\n",
        "\n",
        "# Notion 설정\n",
        "NOTION_API_KEY = '<본인 API>'\n",
        "DATABASE_ID = '<본인 NOTION DATABASE>'\n",
        "notion = Client(auth=NOTION_API_KEY)\n",
        "\n",
        "def fetch_news(url):\n",
        "    response = requests.get(url)\n",
        "    soup = BeautifulSoup(response.text, 'html.parser')\n",
        "\n",
        "    news_data = []\n",
        "    for dt in soup.find_all('dt', class_='thumb'):\n",
        "        a_tag = dt.find('a')\n",
        "        if a_tag and 'href' in a_tag.attrs:\n",
        "            title_tag = dt.find_next_sibling('dd', class_='articleSubject')\n",
        "            title = title_tag.get_text(strip=True) if title_tag else \"No Title\"\n",
        "            full_url = a_tag['href']\n",
        "            news_data.append({\n",
        "                'title': title,\n",
        "                'url': full_url\n",
        "            })\n",
        "    return news_data\n",
        "\n",
        "def add_to_notion(news_items):\n",
        "    for item in news_items:\n",
        "        notion.pages.create(\n",
        "            parent={\"database_id\": DATABASE_ID},\n",
        "            properties={\n",
        "                'Title': {\n",
        "                    'title': [{'text': {'content': item['title']}}]\n",
        "                },\n",
        "                'URL': {\n",
        "                    'url': item['url']\n",
        "                }\n",
        "            }\n",
        "        )\n",
        "\n",
        "def main():\n",
        "    url = \"https://finance.naver.com/news/mainnews.naver\"\n",
        "    news_items = fetch_news(url)\n",
        "    add_to_notion(news_items)\n",
        "    print(\"뉴스 항목이 Notion 데이터베이스에 성공적으로 추가되었습니다.\")\n",
        "\n",
        "if __name__ == '__main__':\n",
        "    main()\n"
      ],
      "metadata": {
        "colab": {
          "base_uri": "https://localhost:8080/"
        },
        "id": "Ms5fItjd-rsf",
        "outputId": "4a57c51e-22bb-41ad-e775-3f7344c88731"
      },
      "execution_count": null,
      "outputs": [
        {
          "output_type": "stream",
          "name": "stdout",
          "text": [
            "뉴스 항목이 Notion 데이터베이스에 성공적으로 추가되었습니다.\n"
          ]
        }
      ]
    }
  ]
}